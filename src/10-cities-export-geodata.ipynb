{
 "cells": [
  {
   "cell_type": "markdown",
   "metadata": {},
   "source": [
    "# Export Geodata from OpenStreetMap - OSM Only"
   ]
  },
  {
   "cell_type": "code",
   "execution_count": 1,
   "metadata": {},
   "outputs": [],
   "source": [
    "import geopandas as gpd\n",
    "import osm2geojson\n",
    "import requests\n",
    "import pandas as pd\n",
    "from pathlib import Path\n",
    "import numpy as np"
   ]
  },
  {
   "cell_type": "markdown",
   "metadata": {},
   "source": [
    "## Defines"
   ]
  },
  {
   "cell_type": "code",
   "execution_count": 14,
   "metadata": {},
   "outputs": [],
   "source": [
    "overpass_url = \"http://overpass-api.de/api/interpreter\"\n",
    "export_folder = Path('../export')\n",
    "export_folder_shapes = export_folder / 'shapes'\n",
    "export_folder_db = export_folder / 'settlements-all.gpkg'"
   ]
  },
  {
   "cell_type": "code",
   "execution_count": 7,
   "metadata": {},
   "outputs": [],
   "source": [
    "if not export_folder.exists():\n",
    "    export_folder.mkdir()"
   ]
  },
  {
   "cell_type": "markdown",
   "metadata": {},
   "source": [
    "## Get Data from OSM"
   ]
  },
  {
   "cell_type": "code",
   "execution_count": 3,
   "metadata": {},
   "outputs": [],
   "source": [
    "query = \"\"\"\n",
    "    [out:json];\n",
    "    area[\"name\"=\"Донецька область\"]->.area_0;\n",
    "    area[\"name\"=\"Луганська область\"]->.area_1;\n",
    "    (\n",
    "        node[\"place\"=\"city\"](area.area_0);\n",
    "        node[\"place\"=\"town\"](area.area_0);\n",
    "        relation[\"place\"=\"city\"](area.area_0);\n",
    "        relation[\"place\"=\"town\"](area.area_0);\n",
    "        node[\"place\"=\"city\"](area.area_1);\n",
    "        node[\"place\"=\"town\"](area.area_1);\n",
    "        relation[\"place\"=\"city\"](area.area_1);\n",
    "        relation[\"place\"=\"town\"](area.area_1);\n",
    "    );\n",
    "    (._;>;);\n",
    "    out body;\n",
    "\"\"\""
   ]
  },
  {
   "cell_type": "code",
   "execution_count": 15,
   "metadata": {},
   "outputs": [],
   "source": [
    "response = requests.get(overpass_url, params={'data': query})\n",
    "if response.status_code == 200:\n",
    "    \n",
    "    # convert result to GeoDataFrame\n",
    "    data = response.json()\n",
    "    geojson = osm2geojson.json2geojson(data)\n",
    "    gdf = gpd.GeoDataFrame.from_features(geojson)\n",
    "\n",
    "    gdf.rename(columns={'type':'overpasstype'}, inplace=True)\n",
    "\n",
    "    # Tags to columns\n",
    "    tags_df = gdf['tags'].apply(pd.Series)\n",
    "\n",
    "    # Remove names, too much to handle...\n",
    "    tags_df = tags_df.loc[:, ~tags_df.columns.str.startswith('name:') | tags_df.columns.str.startswith('name:en')]\n",
    "    tags_df = tags_df.loc[:, ~tags_df.columns.str.startswith('old_name:')]\n",
    "    tags_df = tags_df.loc[:, ~tags_df.columns.str.startswith('alt_old_name:')]\n",
    "    tags_df = tags_df.loc[:, ~tags_df.columns.str.startswith('alt_name:')]\n",
    "    tags_df = tags_df.loc[:, ~tags_df.columns.str.startswith('old_alt_name:')]\n",
    "    \n",
    "    gdf_raw = pd.concat([gdf.drop(columns=['tags']), tags_df], axis=1)\n",
    "\n",
    "    gdf_raw.crs = 'EPSG:4326'\n",
    "\n",
    "    gdf_raw.to_file(export_folder_db)"
   ]
  },
  {
   "cell_type": "markdown",
   "metadata": {},
   "source": [
    "## Add column: `occupied_since`\n",
    "This calculates for each settlement area when it was conquered. We need this to color them accordingly. We use shapefiles from liveuamap for this. If you do not have these, you can skip this step.\n",
    "\n",
    "Values:\n",
    "* `2014` Occupied during krim and donezk occupation\n",
    "* `2022` Occupied during the 2022 invasion\n",
    "* `not_occupied` Not occupied"
   ]
  },
  {
   "cell_type": "code",
   "execution_count": null,
   "metadata": {},
   "outputs": [],
   "source": [
    "advances_folder = Path('../../ukraine_mapping/export/areas_history/')\n",
    "advances_day = '2025-03-03'\n",
    "\n",
    "# Load 2014 shapes\n",
    "gdf_2014 = gpd.read_file(Path('../data/separatist-area.geojson'))\n",
    "geom_separatist = gdf_2014.iloc[0].geometry\n",
    "\n",
    "# Load current advances\n",
    "gdf_2022 = gpd.read_file(advances_folder / Path(f'{advances_day}.geojson'))\n",
    "gdf_2022 = gdf_2022[gdf_2022['fill'] == '#ce4631'] # Only russian advances\n",
    "geom_advances = gdf_2022.iloc[0].geometry\n",
    "\n",
    "gdf_raw['occupied_since']  = 'not_occupied'\n",
    "\n",
    "# Add 2022\n",
    "gdf_raw['occupied_since'] = gdf_raw.apply(\n",
    "    lambda row: '2022' if row.geometry.within(geom_advances) else row.occupied_since, axis=1\n",
    ")\n",
    "\n",
    "# Add 2014\n",
    "gdf_raw['occupied_since'] = gdf_raw.apply(\n",
    "    lambda row: '2014' if row.geometry.within(geom_separatist) else row.occupied_since, axis=1\n",
    ")\n",
    "\n",
    "gdf_raw.to_file(export_folder_db)"
   ]
  },
  {
   "cell_type": "markdown",
   "metadata": {},
   "source": [
    "## Only > 10k\n",
    "We only take settlement areas with more than 10000 inhabitants."
   ]
  },
  {
   "cell_type": "code",
   "execution_count": 13,
   "metadata": {},
   "outputs": [
    {
     "data": {
      "text/plain": [
       "84"
      ]
     },
     "execution_count": 13,
     "metadata": {},
     "output_type": "execute_result"
    }
   ],
   "source": [
    "gdf_points = gdf_raw[gdf_raw[\"overpasstype\"] == 'node'].copy()\n",
    "gdf_points['population']  = gdf_points['population'].astype(float)\n",
    "gdf_points = gdf_points.sort_values('population', ascending=False)\n",
    "\n",
    "gdf_points = gdf_points[gdf_points.population >= 10000]\n",
    "\n",
    "gdf_points.to_file(export_folder / 'settlements-reduced.gpkg')\n",
    "len(gdf_points)"
   ]
  },
  {
   "cell_type": "markdown",
   "metadata": {},
   "source": [
    "## Get all necessary shapes for each city"
   ]
  },
  {
   "cell_type": "code",
   "execution_count": 11,
   "metadata": {},
   "outputs": [],
   "source": [
    "def request_overpass(query, type, clipping_geometry):\n",
    "    response = requests.get(overpass_url, params={'data': query})\n",
    "    if response.status_code == 200:\n",
    "        \n",
    "        # convert result to GeoDataFrame\n",
    "        data = response.json()\n",
    "        geojson = osm2geojson.json2geojson(data)\n",
    "        gdf = gpd.GeoDataFrame.from_features(geojson)\n",
    "\n",
    "        gdf.rename(columns={'type':'overpasstype'}, inplace=True)\n",
    "\n",
    "        # Tags to columns\n",
    "        tags_df = gdf['tags'].apply(pd.Series)\n",
    "        \n",
    "        # Remove names, too much to handle...\n",
    "        tags_df = tags_df.loc[:, ~tags_df.columns.str.startswith('name:') | tags_df.columns.str.startswith('name:en')]\n",
    "        tags_df = tags_df.loc[:, ~tags_df.columns.str.startswith('old_name:')]\n",
    "        tags_df = tags_df.loc[:, ~tags_df.columns.str.startswith('alt_old_name:')]\n",
    "        tags_df = tags_df.loc[:, ~tags_df.columns.str.startswith('alt_name:')]\n",
    "        tags_df = tags_df.loc[:, ~tags_df.columns.str.startswith('old_alt_name:')]\n",
    "        \n",
    "        gdf = pd.concat([gdf.drop(columns=['tags']), tags_df], axis=1)\n",
    "\n",
    "        gdf['_type'] = type\n",
    "\n",
    "        # Clip\n",
    "        gdf = gpd.clip(gdf, clipping_geometry)\n",
    "        gdf.crs = 'EPSG:4326'\n",
    "\n",
    "        return gdf\n",
    "    \n",
    "def get_bounds(gdf):\n",
    "    bbox = gdf.bounds.values[0]\n",
    "    return ( bbox[1], bbox[0], bbox[3], bbox[2])"
   ]
  },
  {
   "cell_type": "code",
   "execution_count": 12,
   "metadata": {},
   "outputs": [],
   "source": [
    "query_buildings = \"\"\"\n",
    "[out:json];\n",
    "(\n",
    "    way[\"building\"]({x1},{y1},{x2},{x2});\n",
    "    relation[\"building\"]({x1},{y1},{x2},{x2});\n",
    ");\n",
    "(._;>;);\n",
    "out body;\n",
    "\"\"\"\n",
    "\n",
    "query_streets = \"\"\"\n",
    "[out:json];\n",
    "(\n",
    "    way[\"highway\"]({x1},{y1},{x2},{x2});\n",
    ");\n",
    "(._;>;);\n",
    "out body;\n",
    "\"\"\"\n",
    "\n",
    "query_railway = \"\"\"\n",
    "[out:json];\n",
    "(\n",
    "    way[\"railway\"]({x1},{y1},{x2},{x2});\n",
    ");\n",
    "(._;>;);\n",
    "out body;\n",
    "\"\"\""
   ]
  },
  {
   "cell_type": "code",
   "execution_count": 13,
   "metadata": {},
   "outputs": [],
   "source": [
    "# Get Streets\n",
    "\n",
    "def get_streets(name, gdf_bounds):\n",
    "\n",
    "    out_file = export_folder_shapes / f\"{name}_streets.gpkg\"\n",
    "    \n",
    "    if out_file.exists():\n",
    "        return\n",
    "\n",
    "    x1, y1, x2, y2 = get_bounds(gdf_bounds)\n",
    "\n",
    "    gdf_streets = request_overpass(\n",
    "        query_streets.format(\n",
    "            x1 = x1, y1 = y1, x2 = x2, y2 = y2\n",
    "        ),\n",
    "        'streets',\n",
    "        gdf_bounds.iloc[0].geometry\n",
    "    )\n",
    "\n",
    "    # Remove points\n",
    "    gdf_streets = gdf_streets[gdf_streets['overpasstype'] != 'node']\n",
    "\n",
    "    # Store\n",
    "    gdf_streets.to_file(out_file)"
   ]
  },
  {
   "cell_type": "code",
   "execution_count": 14,
   "metadata": {},
   "outputs": [],
   "source": [
    "# Get Railway\n",
    "def get_railway(name, gdf_bounds):\n",
    "\n",
    "    out_file = export_folder_shapes / f\"{name}_railway.gpkg\"\n",
    "\n",
    "    if out_file.exists():\n",
    "        return\n",
    "\n",
    "    x1, y1, x2, y2 = get_bounds(gdf_bounds)\n",
    "\n",
    "    gdf_railway = request_overpass(\n",
    "        query_railway.format(\n",
    "            x1 = x1, y1 = y1, x2 = x2, y2 = y2\n",
    "        ), 'railway',\n",
    "        gdf_bounds.iloc[0].geometry\n",
    "    )\n",
    "\n",
    "    # Remove points\n",
    "    gdf_railway = gdf_railway[gdf_railway['overpasstype'] != 'node']\n",
    "\n",
    "    # Only take this types\n",
    "    railway = ['rail']\n",
    "    gdf_railway = gdf_railway[gdf_railway['railway'].isin(railway)]\n",
    "\n",
    "    # Store\n",
    "    gdf_railway.to_file(out_file)"
   ]
  },
  {
   "cell_type": "code",
   "execution_count": 15,
   "metadata": {},
   "outputs": [],
   "source": [
    "# Get Buildings\n",
    "def get_buildings(name, gdf_bounds):\n",
    "\n",
    "    out_file = export_folder_shapes / f\"{name}_buildings.gpkg\"\n",
    "        \n",
    "    if out_file.exists():\n",
    "        return\n",
    "\n",
    "    x1, y1, x2, y2 = get_bounds(gdf_bounds)\n",
    "\n",
    "    gdf_buildings = request_overpass(query_buildings.format(\n",
    "            x1 = x1, y1 = y1, x2 = x2, y2 = y2\n",
    "        ),\n",
    "        'buildings',\n",
    "        gdf_bounds.iloc[0].geometry\n",
    "    )\n",
    "\n",
    "\n",
    "    # Remove FIXME, causes error\n",
    "    if 'FIXME' in gdf_buildings.columns:\n",
    "        gdf_buildings = gdf_buildings.drop(columns=['FIXME'])\n",
    "\n",
    "    # Remove points\n",
    "    gdf_buildings = gdf_buildings[gdf_buildings['overpasstype'] != 'node']\n",
    "\n",
    "\n",
    "    # Store\n",
    "    gdf_buildings.to_file(out_file)"
   ]
  },
  {
   "cell_type": "code",
   "execution_count": null,
   "metadata": {},
   "outputs": [],
   "source": [
    "def get_name(row):\n",
    "    if (row['name:en'] is not np.nan) and (row['name:en'] is not None):\n",
    "        return row['name:en'].lower()\n",
    "    else:\n",
    "        return row['name'].lower()\n",
    "\n",
    "for i, row in gdf_points.iterrows():\n",
    "\n",
    "    name = get_name(row)\n",
    "\n",
    "    # print(f\"Download data for {name}\")\n",
    "    \n",
    "    gdf_city = gdf_raw[gdf_raw.geometry.contains(row.geometry) & (gdf_raw['overpasstype'] == 'relation')]\n",
    "\n",
    "    # Download data\n",
    "    get_buildings(name, gdf_city)\n",
    "    get_streets(name, gdf_city)\n",
    "    get_railway(name, gdf_city)\n",
    "\n",
    "    # Get Boundaries\n",
    "    gdf_city.to_file(export_folder_shapes / f\"{name}_boundaries.gpkg\")"
   ]
  },
  {
   "cell_type": "code",
   "execution_count": null,
   "metadata": {},
   "outputs": [],
   "source": []
  }
 ],
 "metadata": {
  "kernelspec": {
   "display_name": "env",
   "language": "python",
   "name": "python3"
  },
  "language_info": {
   "codemirror_mode": {
    "name": "ipython",
    "version": 3
   },
   "file_extension": ".py",
   "mimetype": "text/x-python",
   "name": "python",
   "nbconvert_exporter": "python",
   "pygments_lexer": "ipython3",
   "version": "3.12.7"
  }
 },
 "nbformat": 4,
 "nbformat_minor": 2
}
