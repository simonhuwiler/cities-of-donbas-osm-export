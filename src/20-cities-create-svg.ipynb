{
 "cells": [
  {
   "cell_type": "markdown",
   "metadata": {},
   "source": [
    "# Create SVGs\n",
    "This script plots SVG based on the downloaded data"
   ]
  },
  {
   "cell_type": "code",
   "execution_count": null,
   "metadata": {},
   "outputs": [],
   "source": [
    "import geopandas as gpd\n",
    "import matplotlib.pyplot as plt\n",
    "from pathlib import Path\n",
    "import numpy as np"
   ]
  },
  {
   "cell_type": "markdown",
   "metadata": {},
   "source": [
    "## Defines"
   ]
  },
  {
   "cell_type": "code",
   "execution_count": null,
   "metadata": {},
   "outputs": [],
   "source": [
    "export_folder = Path('../export')\n",
    "export_folder_db = export_folder / 'settlements.gpkg'\n",
    "export_folder_shapes = export_folder / 'shapes'\n",
    "export_folder_svg = export_folder / 'svg'"
   ]
  },
  {
   "cell_type": "markdown",
   "metadata": {},
   "source": [
    "## Colors"
   ]
  },
  {
   "cell_type": "code",
   "execution_count": null,
   "metadata": {},
   "outputs": [],
   "source": [
    "color_boundaries_fill = {\n",
    "    '2014': '#F29888',\n",
    "    '2022': '#FBD6C9',\n",
    "    'not-captured': '#D1D4F2'\n",
    "}\n",
    "\n",
    "color_boundaries_stroke = {\n",
    "    '2014': '#C95642',\n",
    "    '2022': '#C6220E',\n",
    "    'not-captured': '#2B36A0'\n",
    "}\n",
    "\n",
    "color_buildings = {\n",
    "    '2014': '#F29888',\n",
    "    '2022': '#E6482F',\n",
    "    'not-captured': '#4D59C1'\n",
    "}\n",
    "\n",
    "color_streets = {\n",
    "    '2014': '#F29888',\n",
    "    '2022': '#E6482F',\n",
    "    'not-captured': '#4D59C1',\n",
    "}\n",
    "\n",
    "color_railway = {\n",
    "    '2014': '#F29888',\n",
    "    '2022': '#E6482F',\n",
    "    'not-captured': '#4D59C1'\n",
    "}\n",
    "\n",
    "edge_streets = {\n",
    "    'primary': 0.5,\n",
    "    'primary_link': 0.5,\n",
    "    'secondary': 0.5,\n",
    "    'secondary_link': 0.5,\n",
    "    'tertiary_link': 0.5,\n",
    "    'tertiary': 0.2,\n",
    "    'default': 0.2\n",
    "}"
   ]
  },
  {
   "cell_type": "markdown",
   "metadata": {},
   "source": [
    "## Open List"
   ]
  },
  {
   "cell_type": "code",
   "execution_count": null,
   "metadata": {},
   "outputs": [],
   "source": [
    "# Load List\n",
    "gdf_cities = gpd.read_file(export_folder_db)\n",
    "\n",
    "if not export_folder_svg.exists():\n",
    "    export_folder_svg.mkdir()"
   ]
  },
  {
   "cell_type": "markdown",
   "metadata": {},
   "source": [
    "## Loopdiloop"
   ]
  },
  {
   "cell_type": "code",
   "execution_count": null,
   "metadata": {},
   "outputs": [],
   "source": [
    "def get_name(row):\n",
    "    if (row['name:en'] is not np.nan) and (row['name:en'] is not None):\n",
    "        return row['name:en'].lower()\n",
    "    else:\n",
    "        return row['name'].lower()\n",
    "\n",
    "for i, row in gdf_cities.iterrows():\n",
    "\n",
    "    name = get_name(row)\n",
    "\n",
    "    export_name = export_folder_svg / f\"{name}.svg\"\n",
    "\n",
    "    # Skip of already exists\n",
    "    if export_name.exists():\n",
    "        continue\n",
    "\n",
    "    print(f\"Create svg for {name}\")\n",
    "\n",
    "    # Open Shapes\n",
    "    gdf_boundaries = gpd.read_file(export_folder_shapes / f\"{name}_boundaries.gpkg\")\n",
    "\n",
    "    gdf_streets = None\n",
    "    gdf_streets_path = export_folder_shapes / f\"{name}_streets.gpkg\"\n",
    "    if gdf_streets_path.exists():\n",
    "        gdf_streets = gpd.read_file(gdf_streets_path)\n",
    "\n",
    "    gdf_railway = None\n",
    "    gdf_railway_path = export_folder_shapes / f\"{name}_railway.gpkg\"\n",
    "    if gdf_railway_path.exists():\n",
    "        gdf_railway = gpd.read_file(gdf_railway_path)\n",
    "\n",
    "    gdf_buildings = None\n",
    "    gdf_buildings_path = export_folder_shapes / f\"{name}_buildings.gpkg\"\n",
    "    if gdf_buildings_path.exists():\n",
    "        gdf_buildings = gpd.read_file(export_folder_shapes / f\"{name}_buildings.gpkg\")\n",
    "\n",
    "    # Clean\n",
    "    if gdf_streets is not None:\n",
    "        gdf_streets = gdf_streets[~gdf_streets.geometry.type.isin(['Point'])]\n",
    "        gdf_streets['linewidth'] = gdf_streets['highway'].apply(lambda x: edge_streets[x] if x in edge_streets else edge_streets['default'])\n",
    "\n",
    "    if gdf_railway is not None:\n",
    "        gdf_railway = gdf_railway[~gdf_railway.geometry.type.isin(['Point'])]\n",
    "\n",
    "    # Plot SVG\n",
    "    fig, ax = plt.subplots(figsize=(15, 15))\n",
    "    ax.set_axis_off()\n",
    "    gdf_boundaries.plot(ax=ax, edgecolor=None, color=color_boundaries_fill[row['occupied_since']], linewidth=0.6)\n",
    "    if (gdf_streets is not None) and (len(gdf_streets) > 0):\n",
    "        gdf_streets.plot(ax=ax, color=color_streets[row['occupied_since']], linewidth=gdf_streets['linewidth'])\n",
    "    if (gdf_railway is not None) and (len(gdf_railway) > 0):\n",
    "        gdf_railway.plot(ax=ax, color=color_railway[row['occupied_since']], linewidth=1, linestyle='--')\n",
    "    if (gdf_buildings is not None) and (len(gdf_buildings) > 0):\n",
    "        gdf_buildings.plot(ax=ax, color=color_buildings[row['occupied_since']], linewidth=1)\n",
    "\n",
    "    fig.savefig(export_name, format='svg', bbox_inches='tight')\n",
    "    plt.close(fig)\n"
   ]
  }
 ],
 "metadata": {
  "kernelspec": {
   "display_name": "env",
   "language": "python",
   "name": "python3"
  },
  "language_info": {
   "codemirror_mode": {
    "name": "ipython",
    "version": 3
   },
   "file_extension": ".py",
   "mimetype": "text/x-python",
   "name": "python",
   "nbconvert_exporter": "python",
   "pygments_lexer": "ipython3",
   "version": "3.10.8"
  }
 },
 "nbformat": 4,
 "nbformat_minor": 2
}
